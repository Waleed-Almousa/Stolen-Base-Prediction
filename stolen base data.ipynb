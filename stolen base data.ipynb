{
 "cells": [
  {
   "cell_type": "code",
   "execution_count": 12,
   "metadata": {},
   "outputs": [],
   "source": [
    "import requests\n",
    "import pandas as pd\n",
    "import pybaseball"
   ]
  },
  {
   "cell_type": "code",
   "execution_count": 13,
   "metadata": {},
   "outputs": [],
   "source": [
    "catcher_throwing = pd.read_csv(\"catcher_throwing.csv\")\n",
    "pitch_tempo = pd.read_csv(\"pitch_tempo.csv\").dropna()\n",
    "sprint_speed = pd.read_csv(\"sprint_speed.csv\")\n",
    "pitcher_running_game = pd.read_csv(\"pitcher_running_game.csv\")"
   ]
  },
  {
   "cell_type": "code",
   "execution_count": 14,
   "metadata": {},
   "outputs": [],
   "source": [
    "# statcast_2023 = pb.statcast(\"2023-03-29\",\"2023-10-02\") #comment out after run once\n",
    "# %store statcast_2023 #comment out after run once\n",
    "%store -r statcast_2023\n",
    "\n",
    "catcher_ids = list(set(statcast_2023.fielder_2))"
   ]
  },
  {
   "cell_type": "code",
   "execution_count": 15,
   "metadata": {},
   "outputs": [],
   "source": [
    "sb_columns = [\n",
    "    'game_pk',\n",
    "    'at_bat_number',\n",
    "    'runner_id',\n",
    "    'pitcher_id',\n",
    "    'catcher_id',\n",
    "    'is_runner_sb2'\n",
    "]\n",
    "\n",
    "total_sb = pd.DataFrame(columns = sb_columns)\n",
    "\n",
    "for id in catcher_ids:\n",
    "    url = f'https://baseballsavant.mlb.com/leaderboard/services/catcher-throwing/{id}?game_type=Regular&n=q&season_end=2023&season_start=2023&split=no&team=&type=Cat&with_team_only=1'\n",
    "\n",
    "    response = requests.get(url)\n",
    "\n",
    "    data = response.json().get('data', [])\n",
    "    data = pd.json_normalize(data)\n",
    "\n",
    "    if len(data) > 0:\n",
    "        total_sb = pd.concat([total_sb, data[sb_columns]], ignore_index=True)\n",
    "\n",
    "\n",
    "total_sb = total_sb.rename(columns = {'is_runner_sb2': 'successful_sb'})\n",
    "total_sb = pd.merge(total_sb, sprint_speed[[\"player_id\",\"sprint_speed\"]].rename(columns = {\"player_id\" : \"runner_id\", \"sprint_speed\" : \"runner_sprint_speed\"}), how = \"left\", on = \"runner_id\")\n",
    "total_sb = pd.merge(total_sb, pitch_tempo[[\"entity_id\",\"median_seconds_empty\"]].rename(columns = {\"entity_id\" : \"pitcher_id\", \"median_seconds_empty\" : \"pitch_tempo\"}), how = \"left\", on = \"pitcher_id\")\n",
    "total_sb = pd.merge(total_sb, pitcher_running_game[[\"player_id\",'rate_sb2cs2',\"pos11_r_sec_minus_prim_lead\",\"pos11_r_sec_minus_prim_lead_sb2cs2\"]].rename(columns = {\"player_id\" : \"pitcher_id\", \"rate_sb2cs2\":\"sb_att_rate\",\"pos11_r_sec_minus_prim_lead\":\"lead_dist_gained_opp\",\"pos11_r_sec_minus_prim_lead_sb2cs2\":\"lead_dist_gained_att\"}), how = \"left\", on = \"pitcher_id\")\n",
    "total_sb = pd.merge(total_sb, catcher_throwing[[\"player_id\",\"pop_time\",\"exchange_time\",\"arm_strength\",\"cs_aa_per_throw\"]].rename(columns = {\"player_id\" : \"catcher_id\"}), how = \"left\", on = \"catcher_id\")\n",
    "total_sb = total_sb.dropna().reset_index(drop = True)"
   ]
  },
  {
   "cell_type": "code",
   "execution_count": 16,
   "metadata": {},
   "outputs": [],
   "source": [
    "total_sb.to_csv(\"stolen_base_features.csv\")"
   ]
  }
 ],
 "metadata": {
  "kernelspec": {
   "display_name": "Python 3",
   "language": "python",
   "name": "python3"
  },
  "language_info": {
   "codemirror_mode": {
    "name": "ipython",
    "version": 3
   },
   "file_extension": ".py",
   "mimetype": "text/x-python",
   "name": "python",
   "nbconvert_exporter": "python",
   "pygments_lexer": "ipython3",
   "version": "3.8.5"
  }
 },
 "nbformat": 4,
 "nbformat_minor": 2
}
